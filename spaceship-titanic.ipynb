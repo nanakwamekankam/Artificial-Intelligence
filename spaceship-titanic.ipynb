{
 "cells": [
  {
   "cell_type": "code",
   "execution_count": 1,
   "id": "f56417e6",
   "metadata": {
    "_cell_guid": "b1076dfc-b9ad-4769-8c92-a6c4dae69d19",
    "_uuid": "8f2839f25d086af736a60e9eeb907d3b93b6e0e5",
    "execution": {
     "iopub.execute_input": "2022-06-21T09:44:33.648557Z",
     "iopub.status.busy": "2022-06-21T09:44:33.647918Z",
     "iopub.status.idle": "2022-06-21T09:44:33.660504Z",
     "shell.execute_reply": "2022-06-21T09:44:33.659527Z"
    },
    "papermill": {
     "duration": 0.024287,
     "end_time": "2022-06-21T09:44:33.662581",
     "exception": false,
     "start_time": "2022-06-21T09:44:33.638294",
     "status": "completed"
    },
    "tags": []
   },
   "outputs": [
    {
     "name": "stdout",
     "output_type": "stream",
     "text": [
      "/kaggle/input/spaceship-titanic/sample_submission.csv\n",
      "/kaggle/input/spaceship-titanic/train.csv\n",
      "/kaggle/input/spaceship-titanic/test.csv\n"
     ]
    }
   ],
   "source": [
    "# This Python 3 environment comes with many helpful analytics libraries installed\n",
    "# It is defined by the kaggle/python Docker image: https://github.com/kaggle/docker-python\n",
    "# For example, here's several helpful packages to load\n",
    "\n",
    "import numpy as np # linear algebra\n",
    "import pandas as pd # data processing, CSV file I/O (e.g. pd.read_csv)\n",
    "\n",
    "# Input data files are available in the read-only \"../input/\" directory\n",
    "# For example, running this (by clicking run or pressing Shift+Enter) will list all files under the input directory\n",
    "\n",
    "import os\n",
    "for dirname, _, filenames in os.walk('/kaggle/input'):\n",
    "    for filename in filenames:\n",
    "        print(os.path.join(dirname, filename))\n",
    "\n",
    "# You can write up to 20GB to the current directory (/kaggle/working/) that gets preserved as output when you create a version using \"Save & Run All\" \n",
    "# You can also write temporary files to /kaggle/temp/, but they won't be saved outside of the current session\n",
    "\n",
    "# # Removing current submission files\n",
    "# os.remove(\"/kaggle/working/submission6.csv\")\n",
    "# os.remove(\"/kaggle/working/submission.csv\")\n",
    "def done():\n",
    "    print(\"DONE\") \n",
    "# To check when processes are done"
   ]
  },
  {
   "cell_type": "markdown",
   "id": "b27ef279",
   "metadata": {
    "papermill": {
     "duration": 0.004201,
     "end_time": "2022-06-21T09:44:33.671390",
     "exception": false,
     "start_time": "2022-06-21T09:44:33.667189",
     "status": "completed"
    },
    "tags": []
   },
   "source": [
    "# Loading Data"
   ]
  },
  {
   "cell_type": "markdown",
   "id": "cc6af011",
   "metadata": {
    "papermill": {
     "duration": 0.004025,
     "end_time": "2022-06-21T09:44:33.679799",
     "exception": false,
     "start_time": "2022-06-21T09:44:33.675774",
     "status": "completed"
    },
    "tags": []
   },
   "source": [
    "Firstly, let's start by loading the training and testing data. The test data will only have independent variables(i.e X) but the training data will have both dependent(y) and independent(X) variables. The training data contains a table with different features(independent variables) of previous passengers and whether they were transported or not. "
   ]
  },
  {
   "cell_type": "code",
   "execution_count": 2,
   "id": "06fd4dc0",
   "metadata": {
    "execution": {
     "iopub.execute_input": "2022-06-21T09:44:33.690005Z",
     "iopub.status.busy": "2022-06-21T09:44:33.689398Z",
     "iopub.status.idle": "2022-06-21T09:44:34.842623Z",
     "shell.execute_reply": "2022-06-21T09:44:34.841449Z"
    },
    "papermill": {
     "duration": 1.16072,
     "end_time": "2022-06-21T09:44:34.844803",
     "exception": false,
     "start_time": "2022-06-21T09:44:33.684083",
     "status": "completed"
    },
    "tags": []
   },
   "outputs": [
    {
     "name": "stdout",
     "output_type": "stream",
     "text": [
      "DONE\n"
     ]
    }
   ],
   "source": [
    "# Importing train and test data\n",
    "X_train_full = pd.read_csv(\"../input/spaceship-titanic/train.csv\")\n",
    "X_test = pd.read_csv(\"../input/spaceship-titanic/test.csv\")\n",
    "\n",
    "# Drop the Name and PassengerId columns. As well as the other columns to prevent target leakage.\n",
    "X_train_full.drop([\"PassengerId\", \"Cabin\", \"RoomService\", \"FoodCourt\", \"ShoppingMall\", \"Spa\", \"VRDeck\", \"Name\"], axis=1, inplace=True)\n",
    "X_test.drop([\"Cabin\", \"RoomService\", \"FoodCourt\", \"ShoppingMall\", \"Spa\", \"VRDeck\", \"Name\"], axis=1, inplace=True)\n",
    "\n",
    "# Removing rows who don't have a transported value from training data.\n",
    "X_train_full.dropna(axis=0, subset=[\"Transported\"], inplace=True)\n",
    "y1 = X_train_full.Transported\n",
    "X = X_train_full.drop([\"Transported\"],axis=1, inplace=False)\n",
    "\n",
    "# Converting y from bool to int\n",
    "y = y1.astype(\"int64\")\n",
    "\n",
    "# From training data, get a train_test split.\n",
    "from sklearn.model_selection import train_test_split\n",
    "X_train, X_valid, y_train, y_valid = train_test_split(X, y, train_size=0.8, test_size=0.2, random_state=0)\n",
    "\n",
    "# Categorical and numerical data lists.\n",
    "categorical = [column for column in X.columns if X[column].dtype == \"object\"]\n",
    "numerical = [column for column in X.columns if X[column].dtype in ['int64', 'float64']]\n",
    "\n",
    "done()"
   ]
  },
  {
   "cell_type": "markdown",
   "id": "163f59d8",
   "metadata": {
    "papermill": {
     "duration": 0.004161,
     "end_time": "2022-06-21T09:44:34.853436",
     "exception": false,
     "start_time": "2022-06-21T09:44:34.849275",
     "status": "completed"
    },
    "tags": []
   },
   "source": [
    "After the code above, we have 2 dataframes. y contains the output, that is for each row of data was this passanger tranported or not. x contains the inputs for each row minus the useless PassengerId and Name columns which were removed from both the training and testing data because they add no value to the model. \n",
    "\n",
    "After carefull consideration, I think the columns Cabin, RoomService, FoodCourt, ShoppingMall, Spa, VRDeck will cause target leakage. This is because these are sevices that the passanger will use once on board. Hence at the point of data collection, there is no way to know that they are going to use the spa or the foodcourt, nor how many time they will use it, nor how much they will spend on these luxuries. Unless the passanger pays for the possibility of using these services as part of the voyage price, but it doesn't seem so since the values are not the same.\n",
    "\n",
    "\n",
    "Then a test_train split is done on the model. This is done early to avoid train_test leakage eventually when we impute missing values."
   ]
  },
  {
   "cell_type": "code",
   "execution_count": 3,
   "id": "ffafb515",
   "metadata": {
    "execution": {
     "iopub.execute_input": "2022-06-21T09:44:34.864286Z",
     "iopub.status.busy": "2022-06-21T09:44:34.863310Z",
     "iopub.status.idle": "2022-06-21T09:44:34.882002Z",
     "shell.execute_reply": "2022-06-21T09:44:34.881348Z"
    },
    "papermill": {
     "duration": 0.025856,
     "end_time": "2022-06-21T09:44:34.883765",
     "exception": false,
     "start_time": "2022-06-21T09:44:34.857909",
     "status": "completed"
    },
    "tags": []
   },
   "outputs": [
    {
     "data": {
      "text/html": [
       "<div>\n",
       "<style scoped>\n",
       "    .dataframe tbody tr th:only-of-type {\n",
       "        vertical-align: middle;\n",
       "    }\n",
       "\n",
       "    .dataframe tbody tr th {\n",
       "        vertical-align: top;\n",
       "    }\n",
       "\n",
       "    .dataframe thead th {\n",
       "        text-align: right;\n",
       "    }\n",
       "</style>\n",
       "<table border=\"1\" class=\"dataframe\">\n",
       "  <thead>\n",
       "    <tr style=\"text-align: right;\">\n",
       "      <th></th>\n",
       "      <th>PassengerId</th>\n",
       "      <th>HomePlanet</th>\n",
       "      <th>CryoSleep</th>\n",
       "      <th>Destination</th>\n",
       "      <th>Age</th>\n",
       "      <th>VIP</th>\n",
       "    </tr>\n",
       "  </thead>\n",
       "  <tbody>\n",
       "    <tr>\n",
       "      <th>0</th>\n",
       "      <td>0013_01</td>\n",
       "      <td>Earth</td>\n",
       "      <td>True</td>\n",
       "      <td>TRAPPIST-1e</td>\n",
       "      <td>27.0</td>\n",
       "      <td>False</td>\n",
       "    </tr>\n",
       "    <tr>\n",
       "      <th>1</th>\n",
       "      <td>0018_01</td>\n",
       "      <td>Earth</td>\n",
       "      <td>False</td>\n",
       "      <td>TRAPPIST-1e</td>\n",
       "      <td>19.0</td>\n",
       "      <td>False</td>\n",
       "    </tr>\n",
       "    <tr>\n",
       "      <th>2</th>\n",
       "      <td>0019_01</td>\n",
       "      <td>Europa</td>\n",
       "      <td>True</td>\n",
       "      <td>55 Cancri e</td>\n",
       "      <td>31.0</td>\n",
       "      <td>False</td>\n",
       "    </tr>\n",
       "    <tr>\n",
       "      <th>3</th>\n",
       "      <td>0021_01</td>\n",
       "      <td>Europa</td>\n",
       "      <td>False</td>\n",
       "      <td>TRAPPIST-1e</td>\n",
       "      <td>38.0</td>\n",
       "      <td>False</td>\n",
       "    </tr>\n",
       "    <tr>\n",
       "      <th>4</th>\n",
       "      <td>0023_01</td>\n",
       "      <td>Earth</td>\n",
       "      <td>False</td>\n",
       "      <td>TRAPPIST-1e</td>\n",
       "      <td>20.0</td>\n",
       "      <td>False</td>\n",
       "    </tr>\n",
       "  </tbody>\n",
       "</table>\n",
       "</div>"
      ],
      "text/plain": [
       "  PassengerId HomePlanet CryoSleep  Destination   Age    VIP\n",
       "0     0013_01      Earth      True  TRAPPIST-1e  27.0  False\n",
       "1     0018_01      Earth     False  TRAPPIST-1e  19.0  False\n",
       "2     0019_01     Europa      True  55 Cancri e  31.0  False\n",
       "3     0021_01     Europa     False  TRAPPIST-1e  38.0  False\n",
       "4     0023_01      Earth     False  TRAPPIST-1e  20.0  False"
      ]
     },
     "execution_count": 3,
     "metadata": {},
     "output_type": "execute_result"
    }
   ],
   "source": [
    "#X.head()\n",
    "X_test.head()\n",
    "#print(y_train)\n",
    "#print(categorical)\n",
    "#print(numerical)"
   ]
  },
  {
   "cell_type": "markdown",
   "id": "70b68684",
   "metadata": {
    "papermill": {
     "duration": 0.004239,
     "end_time": "2022-06-21T09:44:34.892610",
     "exception": false,
     "start_time": "2022-06-21T09:44:34.888371",
     "status": "completed"
    },
    "tags": []
   },
   "source": [
    "# Data Preprocessing"
   ]
  },
  {
   "cell_type": "markdown",
   "id": "4acc8ad8",
   "metadata": {
    "papermill": {
     "duration": 0.004577,
     "end_time": "2022-06-21T09:44:34.901567",
     "exception": false,
     "start_time": "2022-06-21T09:44:34.896990",
     "status": "completed"
    },
    "tags": []
   },
   "source": [
    "Now, checking the cardinality of the categorical columns to know if they are worth encoding. Since the data shrinks to 6 uselful columns, the cardinality threshold can be increased to about 20 without getting too large of a dataset."
   ]
  },
  {
   "cell_type": "code",
   "execution_count": 4,
   "id": "175e081d",
   "metadata": {
    "execution": {
     "iopub.execute_input": "2022-06-21T09:44:34.912216Z",
     "iopub.status.busy": "2022-06-21T09:44:34.911599Z",
     "iopub.status.idle": "2022-06-21T09:44:34.918951Z",
     "shell.execute_reply": "2022-06-21T09:44:34.918335Z"
    },
    "papermill": {
     "duration": 0.014727,
     "end_time": "2022-06-21T09:44:34.920696",
     "exception": false,
     "start_time": "2022-06-21T09:44:34.905969",
     "status": "completed"
    },
    "tags": []
   },
   "outputs": [],
   "source": [
    "# Cardinality of categorical data\n",
    "cardinalities = []\n",
    "for column in categorical:\n",
    "    card = X[column].nunique()\n",
    "    cardinalities.append((column, card))\n",
    "\n",
    "ordinal_cols = [col for (col,card) in cardinalities if card==2]\n",
    "onehot_cols = list(set(categorical) - set(ordinal_cols))"
   ]
  },
  {
   "cell_type": "markdown",
   "id": "45aef427",
   "metadata": {
    "papermill": {
     "duration": 0.004205,
     "end_time": "2022-06-21T09:44:34.929398",
     "exception": false,
     "start_time": "2022-06-21T09:44:34.925193",
     "status": "completed"
    },
    "tags": []
   },
   "source": [
    "Now that the data has been prepared, it is time to preprocess it with a pipeline.\n",
    "This pipeline called preprocess will:\n",
    "* Step1: Take care of missing data using the Simple Imputer\n",
    "* Step2: Take care of categorical data by encoding\n",
    "\n",
    "Since the only numerical column is Age, it makes sense to impute 0 for the missing values. It is possible the person is a baby and the guardians didn't know how to input their age since they are probably months old by that point."
   ]
  },
  {
   "cell_type": "code",
   "execution_count": 5,
   "id": "10ad3c92",
   "metadata": {
    "execution": {
     "iopub.execute_input": "2022-06-21T09:44:34.939726Z",
     "iopub.status.busy": "2022-06-21T09:44:34.939095Z",
     "iopub.status.idle": "2022-06-21T09:44:35.072094Z",
     "shell.execute_reply": "2022-06-21T09:44:35.071325Z"
    },
    "papermill": {
     "duration": 0.140969,
     "end_time": "2022-06-21T09:44:35.074649",
     "exception": false,
     "start_time": "2022-06-21T09:44:34.933680",
     "status": "completed"
    },
    "tags": []
   },
   "outputs": [],
   "source": [
    "from sklearn.compose import ColumnTransformer\n",
    "from sklearn.pipeline import Pipeline\n",
    "from sklearn.impute import SimpleImputer\n",
    "from sklearn.preprocessing import OneHotEncoder, OrdinalEncoder\n",
    "\n",
    "# Preprocessing for numerical and categorical data\n",
    "numerical_imputer = SimpleImputer(strategy=\"constant\", fill_value=0)\n",
    "ordinal_encoder = Pipeline(steps=[('imputer', SimpleImputer(strategy='most_frequent')), \n",
    "                                 ('ordinal', OrdinalEncoder())])\n",
    "onehot_encoder = Pipeline(steps=[('imputer', SimpleImputer(strategy='most_frequent')), \n",
    "                                 ('onehot', OneHotEncoder(handle_unknown='ignore'))])\n",
    "preprocessor = ColumnTransformer(transformers=[('numerical', numerical_imputer, numerical),\n",
    "                                               ('ordinal', ordinal_encoder, ordinal_cols),\n",
    "                                               ('onehot', onehot_encoder, onehot_cols)])\n"
   ]
  },
  {
   "cell_type": "markdown",
   "id": "4dc47dc6",
   "metadata": {
    "papermill": {
     "duration": 0.00415,
     "end_time": "2022-06-21T09:44:35.083343",
     "exception": false,
     "start_time": "2022-06-21T09:44:35.079193",
     "status": "completed"
    },
    "tags": []
   },
   "source": [
    "# Modeling and Trainging Model"
   ]
  },
  {
   "cell_type": "markdown",
   "id": "4363f724",
   "metadata": {
    "papermill": {
     "duration": 0.004036,
     "end_time": "2022-06-21T09:44:35.091649",
     "exception": false,
     "start_time": "2022-06-21T09:44:35.087613",
     "status": "completed"
    },
    "tags": []
   },
   "source": [
    "*NOTE: All models used are present in the code, but are all commented out except for the one with the best performance*"
   ]
  },
  {
   "cell_type": "markdown",
   "id": "1bca3818",
   "metadata": {
    "papermill": {
     "duration": 0.004122,
     "end_time": "2022-06-21T09:44:35.100026",
     "exception": false,
     "start_time": "2022-06-21T09:44:35.095904",
     "status": "completed"
    },
    "tags": []
   },
   "source": [
    "Then the model is defined. Using a Regressor with gradient decent method using XGBoost."
   ]
  },
  {
   "cell_type": "code",
   "execution_count": 6,
   "id": "050aef6a",
   "metadata": {
    "execution": {
     "iopub.execute_input": "2022-06-21T09:44:35.109833Z",
     "iopub.status.busy": "2022-06-21T09:44:35.109478Z",
     "iopub.status.idle": "2022-06-21T09:44:35.113966Z",
     "shell.execute_reply": "2022-06-21T09:44:35.113347Z"
    },
    "papermill": {
     "duration": 0.01145,
     "end_time": "2022-06-21T09:44:35.115683",
     "exception": false,
     "start_time": "2022-06-21T09:44:35.104233",
     "status": "completed"
    },
    "tags": []
   },
   "outputs": [],
   "source": [
    "# # Creating XGBoost model \n",
    "# from xgboost import XGBRegressor as model\n",
    "# my_model = model(n_estimators=1000, learning_rate=0.05)\n",
    "\n",
    "# # Creating final pipeline that uses the preprocessing steps and invokes the model\n",
    "# pipeline = Pipeline(steps=[('processor', preprocessor),\n",
    "#                            ('model', my_model)])\n",
    "\n",
    "# # Using the model with the Pipeline to train data and make predictions\n",
    "# pipeline.fit(X_train, y_train)\n",
    "# pred = pipeline.predict(X_valid)\n",
    "# predictions = [round(pred[i]) for i in range(len(pred))]"
   ]
  },
  {
   "cell_type": "markdown",
   "id": "08fdb063",
   "metadata": {
    "papermill": {
     "duration": 0.004284,
     "end_time": "2022-06-21T09:44:35.124475",
     "exception": false,
     "start_time": "2022-06-21T09:44:35.120191",
     "status": "completed"
    },
    "tags": []
   },
   "source": [
    "Trying a different model"
   ]
  },
  {
   "cell_type": "code",
   "execution_count": 7,
   "id": "478ad5f5",
   "metadata": {
    "execution": {
     "iopub.execute_input": "2022-06-21T09:44:35.134955Z",
     "iopub.status.busy": "2022-06-21T09:44:35.134580Z",
     "iopub.status.idle": "2022-06-21T09:44:35.139214Z",
     "shell.execute_reply": "2022-06-21T09:44:35.138347Z"
    },
    "papermill": {
     "duration": 0.012019,
     "end_time": "2022-06-21T09:44:35.141004",
     "exception": false,
     "start_time": "2022-06-21T09:44:35.128985",
     "status": "completed"
    },
    "tags": []
   },
   "outputs": [],
   "source": [
    "# # Creating LogisticRegression model\n",
    "# from sklearn.linear_model import LogisticRegression\n",
    "# logreg = LogisticRegression(solver='lbfgs')\n",
    "\n",
    "# # Creating final pipeline that uses the preprocessing steps and invokes the model\n",
    "# pipeline = Pipeline(steps=[('processor', preprocessor),\n",
    "#                            ('model', logreg)])\n",
    "\n",
    "# # Using the model with the Pipeline to train data and make predictions\n",
    "# pipeline.fit(X_train, y_train)\n",
    "# pred = pipeline.predict(X_valid)\n",
    "# predictions = [round(pred[i]) for i in range(len(pred))]"
   ]
  },
  {
   "cell_type": "code",
   "execution_count": 8,
   "id": "ac971f78",
   "metadata": {
    "execution": {
     "iopub.execute_input": "2022-06-21T09:44:35.151142Z",
     "iopub.status.busy": "2022-06-21T09:44:35.150829Z",
     "iopub.status.idle": "2022-06-21T09:44:35.817497Z",
     "shell.execute_reply": "2022-06-21T09:44:35.816358Z"
    },
    "papermill": {
     "duration": 0.675075,
     "end_time": "2022-06-21T09:44:35.820574",
     "exception": false,
     "start_time": "2022-06-21T09:44:35.145499",
     "status": "completed"
    },
    "tags": []
   },
   "outputs": [],
   "source": [
    "from sklearn.model_selection import cross_val_score\n",
    "from sklearn.linear_model import LogisticRegression\n",
    "\n",
    "model = LogisticRegression(solver='lbfgs')\n",
    "pipeline = Pipeline(steps=[('processor', preprocessor),\n",
    "                           ('model', model)])\n",
    "\n",
    "scores = -1 * cross_val_score(pipeline, X, y,\n",
    "                              cv=5,\n",
    "                              scoring='neg_mean_absolute_error')"
   ]
  },
  {
   "cell_type": "markdown",
   "id": "508f52c6",
   "metadata": {
    "papermill": {
     "duration": 0.008916,
     "end_time": "2022-06-21T09:44:35.838688",
     "exception": false,
     "start_time": "2022-06-21T09:44:35.829772",
     "status": "completed"
    },
    "tags": []
   },
   "source": [
    "# Evaluating Model"
   ]
  },
  {
   "cell_type": "code",
   "execution_count": 9,
   "id": "d16019b6",
   "metadata": {
    "execution": {
     "iopub.execute_input": "2022-06-21T09:44:35.859053Z",
     "iopub.status.busy": "2022-06-21T09:44:35.858477Z",
     "iopub.status.idle": "2022-06-21T09:44:36.551225Z",
     "shell.execute_reply": "2022-06-21T09:44:36.550106Z"
    },
    "papermill": {
     "duration": 0.70711,
     "end_time": "2022-06-21T09:44:36.554953",
     "exception": false,
     "start_time": "2022-06-21T09:44:35.847843",
     "status": "completed"
    },
    "tags": []
   },
   "outputs": [
    {
     "name": "stdout",
     "output_type": "stream",
     "text": [
      "[0.28924669 0.27659574 0.30304773 0.29344074 0.27560414]\n",
      "0.2875870091867937\n"
     ]
    }
   ],
   "source": [
    "from sklearn.metrics import mean_absolute_error as mae\n",
    "from statistics import mean\n",
    "# score = mae(predictions, y_valid)\n",
    "scores = -1 * cross_val_score(pipeline, X, y,\n",
    "                              cv=5,\n",
    "                              scoring='neg_mean_absolute_error')\n",
    "print(scores)\n",
    "print(scores.mean())"
   ]
  },
  {
   "cell_type": "markdown",
   "id": "9dfe89f9",
   "metadata": {
    "papermill": {
     "duration": 0.008987,
     "end_time": "2022-06-21T09:44:36.573631",
     "exception": false,
     "start_time": "2022-06-21T09:44:36.564644",
     "status": "completed"
    },
    "tags": []
   },
   "source": [
    "# Generating Output Results for Submission"
   ]
  },
  {
   "cell_type": "markdown",
   "id": "d2e61d0b",
   "metadata": {
    "papermill": {
     "duration": 0.008843,
     "end_time": "2022-06-21T09:44:36.591522",
     "exception": false,
     "start_time": "2022-06-21T09:44:36.582679",
     "status": "completed"
    },
    "tags": []
   },
   "source": [
    "Training on Full data, then generating output file for submission"
   ]
  },
  {
   "cell_type": "code",
   "execution_count": 10,
   "id": "40ee9f13",
   "metadata": {
    "execution": {
     "iopub.execute_input": "2022-06-21T09:44:36.612090Z",
     "iopub.status.busy": "2022-06-21T09:44:36.611500Z",
     "iopub.status.idle": "2022-06-21T09:44:36.751092Z",
     "shell.execute_reply": "2022-06-21T09:44:36.750066Z"
    },
    "papermill": {
     "duration": 0.153725,
     "end_time": "2022-06-21T09:44:36.754475",
     "exception": false,
     "start_time": "2022-06-21T09:44:36.600750",
     "status": "completed"
    },
    "tags": []
   },
   "outputs": [],
   "source": [
    "# Creating output for competition\n",
    "pipeline.fit(X, y)\n",
    "outputs = pipeline.predict(X_test).astype(\"int64\").astype(\"bool\")\n",
    "\n",
    "output = pd.DataFrame({'PassengerId': X_test.PassengerId,\n",
    "                       'Transported': outputs})\n",
    "output.to_csv('submission.csv', index=False)"
   ]
  }
 ],
 "metadata": {
  "kernelspec": {
   "display_name": "Python 3",
   "language": "python",
   "name": "python3"
  },
  "language_info": {
   "codemirror_mode": {
    "name": "ipython",
    "version": 3
   },
   "file_extension": ".py",
   "mimetype": "text/x-python",
   "name": "python",
   "nbconvert_exporter": "python",
   "pygments_lexer": "ipython3",
   "version": "3.7.12"
  },
  "papermill": {
   "default_parameters": {},
   "duration": 12.312085,
   "end_time": "2022-06-21T09:44:37.491445",
   "environment_variables": {},
   "exception": null,
   "input_path": "__notebook__.ipynb",
   "output_path": "__notebook__.ipynb",
   "parameters": {},
   "start_time": "2022-06-21T09:44:25.179360",
   "version": "2.3.4"
  }
 },
 "nbformat": 4,
 "nbformat_minor": 5
}
