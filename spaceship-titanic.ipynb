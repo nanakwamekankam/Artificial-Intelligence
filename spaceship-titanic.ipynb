{
 "cells": [
  {
   "cell_type": "code",
   "execution_count": 1,
   "id": "6b8cfa91",
   "metadata": {
    "_cell_guid": "b1076dfc-b9ad-4769-8c92-a6c4dae69d19",
    "_uuid": "8f2839f25d086af736a60e9eeb907d3b93b6e0e5",
    "execution": {
     "iopub.execute_input": "2022-06-17T11:40:45.224042Z",
     "iopub.status.busy": "2022-06-17T11:40:45.223214Z",
     "iopub.status.idle": "2022-06-17T11:40:45.238472Z",
     "shell.execute_reply": "2022-06-17T11:40:45.237484Z"
    },
    "papermill": {
     "duration": 0.030106,
     "end_time": "2022-06-17T11:40:45.241208",
     "exception": false,
     "start_time": "2022-06-17T11:40:45.211102",
     "status": "completed"
    },
    "tags": []
   },
   "outputs": [
    {
     "name": "stdout",
     "output_type": "stream",
     "text": [
      "/kaggle/input/spaceship-titanic/sample_submission.csv\n",
      "/kaggle/input/spaceship-titanic/train.csv\n",
      "/kaggle/input/spaceship-titanic/test.csv\n"
     ]
    }
   ],
   "source": [
    "# This Python 3 environment comes with many helpful analytics libraries installed\n",
    "# It is defined by the kaggle/python Docker image: https://github.com/kaggle/docker-python\n",
    "# For example, here's several helpful packages to load\n",
    "\n",
    "import numpy as np # linear algebra\n",
    "import pandas as pd # data processing, CSV file I/O (e.g. pd.read_csv)\n",
    "\n",
    "# Input data files are available in the read-only \"../input/\" directory\n",
    "# For example, running this (by clicking run or pressing Shift+Enter) will list all files under the input directory\n",
    "\n",
    "import os\n",
    "for dirname, _, filenames in os.walk('/kaggle/input'):\n",
    "    for filename in filenames:\n",
    "        print(os.path.join(dirname, filename))\n",
    "\n",
    "# You can write up to 20GB to the current directory (/kaggle/working/) that gets preserved as output when you create a version using \"Save & Run All\" \n",
    "# You can also write temporary files to /kaggle/temp/, but they won't be saved outside of the current session\n",
    "\n",
    "def done():\n",
    "    print(\"DONE\") \n",
    "# To check when processes are done"
   ]
  },
  {
   "cell_type": "markdown",
   "id": "c8b8cfd5",
   "metadata": {
    "papermill": {
     "duration": 0.005749,
     "end_time": "2022-06-17T11:40:45.253352",
     "exception": false,
     "start_time": "2022-06-17T11:40:45.247603",
     "status": "completed"
    },
    "tags": []
   },
   "source": [
    "# Loading Data"
   ]
  },
  {
   "cell_type": "markdown",
   "id": "e26a0744",
   "metadata": {
    "papermill": {
     "duration": 0.005647,
     "end_time": "2022-06-17T11:40:45.264986",
     "exception": false,
     "start_time": "2022-06-17T11:40:45.259339",
     "status": "completed"
    },
    "tags": []
   },
   "source": [
    "Firstly, let's start by loading the training and testing data. The test data will only have independent variables(i.e X) but the training data will have both dependent(y) and independent(X) variables. The training data contains a table with different features(independent variables) of previous passengers and whether they were transported or not. "
   ]
  },
  {
   "cell_type": "code",
   "execution_count": 2,
   "id": "ff760ee7",
   "metadata": {
    "execution": {
     "iopub.execute_input": "2022-06-17T11:40:45.279700Z",
     "iopub.status.busy": "2022-06-17T11:40:45.278979Z",
     "iopub.status.idle": "2022-06-17T11:40:46.602641Z",
     "shell.execute_reply": "2022-06-17T11:40:46.601580Z"
    },
    "papermill": {
     "duration": 1.335198,
     "end_time": "2022-06-17T11:40:46.606320",
     "exception": false,
     "start_time": "2022-06-17T11:40:45.271122",
     "status": "completed"
    },
    "tags": []
   },
   "outputs": [
    {
     "name": "stdout",
     "output_type": "stream",
     "text": [
      "DONE\n"
     ]
    }
   ],
   "source": [
    "# Importing train and test data\n",
    "X_train_full = pd.read_csv(\"../input/spaceship-titanic/train.csv\")\n",
    "X_test = pd.read_csv(\"../input/spaceship-titanic/test.csv\")\n",
    "\n",
    "# Drop the Name and PassengerId columns. As well as the other columns to prevent target leakage.\n",
    "X_train_full.drop([\"PassengerId\", \"Cabin\", \"RoomService\", \"FoodCourt\", \"ShoppingMall\", \"Spa\", \"VRDeck\", \"Name\"], axis=1, inplace=True)\n",
    "X_test.drop([\"Cabin\", \"RoomService\", \"FoodCourt\", \"ShoppingMall\", \"Spa\", \"VRDeck\", \"Name\"], axis=1, inplace=True)\n",
    "\n",
    "# Removing rows who don't have a transported value from training data.\n",
    "X_train_full.dropna(axis=0, subset=[\"Transported\"], inplace=True)\n",
    "y1 = X_train_full.Transported\n",
    "X = X_train_full.drop([\"Transported\"],axis=1, inplace=False)\n",
    "\n",
    "# Converting y from bool to int\n",
    "y = y1.astype(\"int64\")\n",
    "\n",
    "# From training data, get a train_test split.\n",
    "from sklearn.model_selection import train_test_split\n",
    "X_train, X_valid, y_train, y_valid = train_test_split(X, y, train_size=0.8, test_size=0.2, random_state=0)\n",
    "\n",
    "# Categorical and numerical data lists.\n",
    "categorical = [column for column in X.columns if X[column].dtype == \"object\"]\n",
    "numerical = [column for column in X.columns if X[column].dtype in ['int64', 'float64']]\n",
    "\n",
    "done()"
   ]
  },
  {
   "cell_type": "markdown",
   "id": "262a2ef5",
   "metadata": {
    "papermill": {
     "duration": 0.005726,
     "end_time": "2022-06-17T11:40:46.618832",
     "exception": false,
     "start_time": "2022-06-17T11:40:46.613106",
     "status": "completed"
    },
    "tags": []
   },
   "source": [
    "After the code above, we have 2 dataframes. y contains the output, that is for each row of data was this passanger tranported or not. x contains the inputs for each row minus the useless PassengerId and Name columns which were removed from both the training and testing data because they add no value to the model. \n",
    "\n",
    "After carefull consideration, I think the columns Cabin, RoomService, FoodCourt, ShoppingMall, Spa, VRDeck will cause target leakage. This is because these are sevices that the passanger will use once on board. Hence at the point of data collection, there is no way to know that they are going to use the spa or the foodcourt, nor how many time they will use it, nor how much they will spend on these luxuries. Unless the passanger pays for the possibility of using these services as part of the voyage price, but it doesn't seem so since the values are not the same.\n",
    "\n",
    "\n",
    "Then a test_train split is done on the model. This is done early to avoid train_test leakage eventually when we impute missing values."
   ]
  },
  {
   "cell_type": "code",
   "execution_count": 3,
   "id": "1b9238e5",
   "metadata": {
    "execution": {
     "iopub.execute_input": "2022-06-17T11:40:46.632998Z",
     "iopub.status.busy": "2022-06-17T11:40:46.632243Z",
     "iopub.status.idle": "2022-06-17T11:40:46.652592Z",
     "shell.execute_reply": "2022-06-17T11:40:46.651859Z"
    },
    "papermill": {
     "duration": 0.030061,
     "end_time": "2022-06-17T11:40:46.654816",
     "exception": false,
     "start_time": "2022-06-17T11:40:46.624755",
     "status": "completed"
    },
    "tags": []
   },
   "outputs": [
    {
     "data": {
      "text/html": [
       "<div>\n",
       "<style scoped>\n",
       "    .dataframe tbody tr th:only-of-type {\n",
       "        vertical-align: middle;\n",
       "    }\n",
       "\n",
       "    .dataframe tbody tr th {\n",
       "        vertical-align: top;\n",
       "    }\n",
       "\n",
       "    .dataframe thead th {\n",
       "        text-align: right;\n",
       "    }\n",
       "</style>\n",
       "<table border=\"1\" class=\"dataframe\">\n",
       "  <thead>\n",
       "    <tr style=\"text-align: right;\">\n",
       "      <th></th>\n",
       "      <th>PassengerId</th>\n",
       "      <th>HomePlanet</th>\n",
       "      <th>CryoSleep</th>\n",
       "      <th>Destination</th>\n",
       "      <th>Age</th>\n",
       "      <th>VIP</th>\n",
       "    </tr>\n",
       "  </thead>\n",
       "  <tbody>\n",
       "    <tr>\n",
       "      <th>0</th>\n",
       "      <td>0013_01</td>\n",
       "      <td>Earth</td>\n",
       "      <td>True</td>\n",
       "      <td>TRAPPIST-1e</td>\n",
       "      <td>27.0</td>\n",
       "      <td>False</td>\n",
       "    </tr>\n",
       "    <tr>\n",
       "      <th>1</th>\n",
       "      <td>0018_01</td>\n",
       "      <td>Earth</td>\n",
       "      <td>False</td>\n",
       "      <td>TRAPPIST-1e</td>\n",
       "      <td>19.0</td>\n",
       "      <td>False</td>\n",
       "    </tr>\n",
       "    <tr>\n",
       "      <th>2</th>\n",
       "      <td>0019_01</td>\n",
       "      <td>Europa</td>\n",
       "      <td>True</td>\n",
       "      <td>55 Cancri e</td>\n",
       "      <td>31.0</td>\n",
       "      <td>False</td>\n",
       "    </tr>\n",
       "    <tr>\n",
       "      <th>3</th>\n",
       "      <td>0021_01</td>\n",
       "      <td>Europa</td>\n",
       "      <td>False</td>\n",
       "      <td>TRAPPIST-1e</td>\n",
       "      <td>38.0</td>\n",
       "      <td>False</td>\n",
       "    </tr>\n",
       "    <tr>\n",
       "      <th>4</th>\n",
       "      <td>0023_01</td>\n",
       "      <td>Earth</td>\n",
       "      <td>False</td>\n",
       "      <td>TRAPPIST-1e</td>\n",
       "      <td>20.0</td>\n",
       "      <td>False</td>\n",
       "    </tr>\n",
       "  </tbody>\n",
       "</table>\n",
       "</div>"
      ],
      "text/plain": [
       "  PassengerId HomePlanet CryoSleep  Destination   Age    VIP\n",
       "0     0013_01      Earth      True  TRAPPIST-1e  27.0  False\n",
       "1     0018_01      Earth     False  TRAPPIST-1e  19.0  False\n",
       "2     0019_01     Europa      True  55 Cancri e  31.0  False\n",
       "3     0021_01     Europa     False  TRAPPIST-1e  38.0  False\n",
       "4     0023_01      Earth     False  TRAPPIST-1e  20.0  False"
      ]
     },
     "execution_count": 3,
     "metadata": {},
     "output_type": "execute_result"
    }
   ],
   "source": [
    "#X.head()\n",
    "X_test.head()\n",
    "#print(y_train)\n",
    "#print(categorical)\n",
    "#print(numerical)"
   ]
  },
  {
   "cell_type": "markdown",
   "id": "518538d2",
   "metadata": {
    "papermill": {
     "duration": 0.00597,
     "end_time": "2022-06-17T11:40:46.667269",
     "exception": false,
     "start_time": "2022-06-17T11:40:46.661299",
     "status": "completed"
    },
    "tags": []
   },
   "source": [
    "# Data Preprocessing"
   ]
  },
  {
   "cell_type": "markdown",
   "id": "9cf3c855",
   "metadata": {
    "papermill": {
     "duration": 0.005896,
     "end_time": "2022-06-17T11:40:46.679720",
     "exception": false,
     "start_time": "2022-06-17T11:40:46.673824",
     "status": "completed"
    },
    "tags": []
   },
   "source": [
    "Now, checking the cardinality of the categorical columns to know if they are worth encoding. Since the data shrinks to 6 uselful columns, the cardinality threshold can be increased to about 20 without getting too large of a dataset."
   ]
  },
  {
   "cell_type": "code",
   "execution_count": 4,
   "id": "92ba4f98",
   "metadata": {
    "execution": {
     "iopub.execute_input": "2022-06-17T11:40:46.694644Z",
     "iopub.status.busy": "2022-06-17T11:40:46.694144Z",
     "iopub.status.idle": "2022-06-17T11:40:46.703732Z",
     "shell.execute_reply": "2022-06-17T11:40:46.702882Z"
    },
    "papermill": {
     "duration": 0.019934,
     "end_time": "2022-06-17T11:40:46.705932",
     "exception": false,
     "start_time": "2022-06-17T11:40:46.685998",
     "status": "completed"
    },
    "tags": []
   },
   "outputs": [],
   "source": [
    "# Cardinality of categorical data\n",
    "cardinalities = []\n",
    "for column in categorical:\n",
    "    card = X[column].nunique()\n",
    "    cardinalities.append((column, card))\n",
    "\n",
    "ordinal_cols = [col for (col,card) in cardinalities if card==2]\n",
    "onehot_cols = list(set(categorical) - set(ordinal_cols))"
   ]
  },
  {
   "cell_type": "markdown",
   "id": "f8607f9c",
   "metadata": {
    "papermill": {
     "duration": 0.006107,
     "end_time": "2022-06-17T11:40:46.719064",
     "exception": false,
     "start_time": "2022-06-17T11:40:46.712957",
     "status": "completed"
    },
    "tags": []
   },
   "source": [
    "Now that the data has been prepared, it is time to preprocess it with a pipeline.\n",
    "This pipeline called preprocess will:\n",
    "* Step1: Take care of missing data using the Simple Imputer\n",
    "* Step2: Take care of categorical data by encoding\n",
    "\n",
    "Since the only numerical column is Age, it makes sense to impute 0 for the missing values. It is possible the person is a baby and the guardians didn't know how to input their age since they are probably months old by that point."
   ]
  },
  {
   "cell_type": "code",
   "execution_count": 5,
   "id": "b0bd6e62",
   "metadata": {
    "execution": {
     "iopub.execute_input": "2022-06-17T11:40:46.734894Z",
     "iopub.status.busy": "2022-06-17T11:40:46.733732Z",
     "iopub.status.idle": "2022-06-17T11:40:46.889301Z",
     "shell.execute_reply": "2022-06-17T11:40:46.888337Z"
    },
    "papermill": {
     "duration": 0.16609,
     "end_time": "2022-06-17T11:40:46.891951",
     "exception": false,
     "start_time": "2022-06-17T11:40:46.725861",
     "status": "completed"
    },
    "tags": []
   },
   "outputs": [],
   "source": [
    "from sklearn.compose import ColumnTransformer\n",
    "from sklearn.pipeline import Pipeline\n",
    "from sklearn.impute import SimpleImputer\n",
    "from sklearn.preprocessing import OneHotEncoder, OrdinalEncoder\n",
    "\n",
    "# Preprocessing for numerical and categorical data\n",
    "numerical_imputer = SimpleImputer(strategy=\"constant\", fill_value=0)\n",
    "ordinal_encoder = Pipeline(steps=[('imputer', SimpleImputer(strategy='most_frequent')), \n",
    "                                 ('ordinal', OrdinalEncoder())])\n",
    "onehot_encoder = Pipeline(steps=[('imputer', SimpleImputer(strategy='most_frequent')), \n",
    "                                 ('onehot', OneHotEncoder(handle_unknown='ignore'))])\n",
    "preprocessor = ColumnTransformer(transformers=[('numerical', numerical_imputer, numerical),\n",
    "                                               ('ordinal', ordinal_encoder, ordinal_cols),\n",
    "                                               ('onehot', onehot_encoder, onehot_cols)])\n"
   ]
  },
  {
   "cell_type": "markdown",
   "id": "b4a9822c",
   "metadata": {
    "papermill": {
     "duration": 0.006084,
     "end_time": "2022-06-17T11:40:46.904503",
     "exception": false,
     "start_time": "2022-06-17T11:40:46.898419",
     "status": "completed"
    },
    "tags": []
   },
   "source": [
    "# Modeling and Trainging Model"
   ]
  },
  {
   "cell_type": "markdown",
   "id": "266b5af8",
   "metadata": {
    "papermill": {
     "duration": 0.005782,
     "end_time": "2022-06-17T11:40:46.916634",
     "exception": false,
     "start_time": "2022-06-17T11:40:46.910852",
     "status": "completed"
    },
    "tags": []
   },
   "source": [
    "*NOTE: All models used are present in the code, but are all commented out except for the one with the best performance*"
   ]
  },
  {
   "cell_type": "markdown",
   "id": "1f726967",
   "metadata": {
    "papermill": {
     "duration": 0.005725,
     "end_time": "2022-06-17T11:40:46.928454",
     "exception": false,
     "start_time": "2022-06-17T11:40:46.922729",
     "status": "completed"
    },
    "tags": []
   },
   "source": [
    "Then the model is defined. Using a Regressor with gradient decent method using XGBoost."
   ]
  },
  {
   "cell_type": "code",
   "execution_count": 6,
   "id": "bf1e4b51",
   "metadata": {
    "execution": {
     "iopub.execute_input": "2022-06-17T11:40:46.943057Z",
     "iopub.status.busy": "2022-06-17T11:40:46.941918Z",
     "iopub.status.idle": "2022-06-17T11:40:53.176200Z",
     "shell.execute_reply": "2022-06-17T11:40:53.174679Z"
    },
    "papermill": {
     "duration": 6.245673,
     "end_time": "2022-06-17T11:40:53.180042",
     "exception": false,
     "start_time": "2022-06-17T11:40:46.934369",
     "status": "completed"
    },
    "tags": []
   },
   "outputs": [
    {
     "name": "stdout",
     "output_type": "stream",
     "text": [
      "0.29672225416906267\n"
     ]
    }
   ],
   "source": [
    "# Creating XGBoost model \n",
    "from xgboost import XGBRegressor as model\n",
    "my_model = model(n_estimators=1000, learning_rate=0.05)\n",
    "\n",
    "# Creating final pipeline that uses the preprocessing steps and invokes the model\n",
    "pipeline = Pipeline(steps=[('processor', preprocessor),\n",
    "                           ('model', my_model)])\n",
    "\n",
    "# Using the model with the Pipeline to train data and make predictions\n",
    "pipeline.fit(X_train, y_train)\n",
    "pred = pipeline.predict(X_valid)\n",
    "predictions = [round(pred[i]) for i in range(len(pred))]\n",
    "\n",
    "from sklearn.metrics import mean_absolute_error as mae\n",
    "score = mae(predictions, y_valid)\n",
    "print(score)"
   ]
  },
  {
   "cell_type": "markdown",
   "id": "2e2bd551",
   "metadata": {
    "papermill": {
     "duration": 0.006196,
     "end_time": "2022-06-17T11:40:53.192884",
     "exception": false,
     "start_time": "2022-06-17T11:40:53.186688",
     "status": "completed"
    },
    "tags": []
   },
   "source": [
    "Trying a different model"
   ]
  },
  {
   "cell_type": "code",
   "execution_count": 7,
   "id": "0fb4435a",
   "metadata": {
    "execution": {
     "iopub.execute_input": "2022-06-17T11:40:53.207340Z",
     "iopub.status.busy": "2022-06-17T11:40:53.206913Z",
     "iopub.status.idle": "2022-06-17T11:40:53.211406Z",
     "shell.execute_reply": "2022-06-17T11:40:53.210668Z"
    },
    "papermill": {
     "duration": 0.014065,
     "end_time": "2022-06-17T11:40:53.213278",
     "exception": false,
     "start_time": "2022-06-17T11:40:53.199213",
     "status": "completed"
    },
    "tags": []
   },
   "outputs": [],
   "source": [
    "# from sklearn.linear_model import LogisticRegression\n",
    "# logreg = LogisticRegression(solver='lbfgs')\n",
    "\n",
    "# # Creating final pipeline that uses the preprocessing steps and invokes the model\n",
    "# pipeline = Pipeline(steps=[('processor', preprocessor),\n",
    "#                            ('model', logreg)])\n",
    "\n",
    "# # Using the model with the Pipeline to train data and make predictions\n",
    "# pipeline.fit(X_train, y_train)\n",
    "# pred = pipeline.predict(X_valid)\n",
    "# predictions = [round(pred[i]) for i in range(len(pred))]"
   ]
  },
  {
   "cell_type": "markdown",
   "id": "18274f00",
   "metadata": {
    "papermill": {
     "duration": 0.005828,
     "end_time": "2022-06-17T11:40:53.225241",
     "exception": false,
     "start_time": "2022-06-17T11:40:53.219413",
     "status": "completed"
    },
    "tags": []
   },
   "source": [
    "# Evaluating Model"
   ]
  },
  {
   "cell_type": "code",
   "execution_count": 8,
   "id": "cd8a2b80",
   "metadata": {
    "execution": {
     "iopub.execute_input": "2022-06-17T11:40:53.239346Z",
     "iopub.status.busy": "2022-06-17T11:40:53.238683Z",
     "iopub.status.idle": "2022-06-17T11:40:53.245017Z",
     "shell.execute_reply": "2022-06-17T11:40:53.243667Z"
    },
    "papermill": {
     "duration": 0.016093,
     "end_time": "2022-06-17T11:40:53.247399",
     "exception": false,
     "start_time": "2022-06-17T11:40:53.231306",
     "status": "completed"
    },
    "tags": []
   },
   "outputs": [
    {
     "name": "stdout",
     "output_type": "stream",
     "text": [
      "0.29672225416906267\n"
     ]
    }
   ],
   "source": [
    "from sklearn.metrics import mean_absolute_error as mae\n",
    "score = mae(predictions, y_valid)\n",
    "print(score)"
   ]
  },
  {
   "cell_type": "markdown",
   "id": "2396b40a",
   "metadata": {
    "papermill": {
     "duration": 0.005873,
     "end_time": "2022-06-17T11:40:53.259650",
     "exception": false,
     "start_time": "2022-06-17T11:40:53.253777",
     "status": "completed"
    },
    "tags": []
   },
   "source": [
    "# Generating Output Results for Submission"
   ]
  },
  {
   "cell_type": "markdown",
   "id": "a251a208",
   "metadata": {
    "papermill": {
     "duration": 0.005927,
     "end_time": "2022-06-17T11:40:53.271868",
     "exception": false,
     "start_time": "2022-06-17T11:40:53.265941",
     "status": "completed"
    },
    "tags": []
   },
   "source": [
    "Training on Full data, then generating output file for submission"
   ]
  },
  {
   "cell_type": "code",
   "execution_count": 9,
   "id": "0b6d2099",
   "metadata": {
    "execution": {
     "iopub.execute_input": "2022-06-17T11:40:53.287648Z",
     "iopub.status.busy": "2022-06-17T11:40:53.287253Z",
     "iopub.status.idle": "2022-06-17T11:41:00.209268Z",
     "shell.execute_reply": "2022-06-17T11:41:00.208474Z"
    },
    "papermill": {
     "duration": 6.933626,
     "end_time": "2022-06-17T11:41:00.211692",
     "exception": false,
     "start_time": "2022-06-17T11:40:53.278066",
     "status": "completed"
    },
    "tags": []
   },
   "outputs": [],
   "source": [
    "# Creating output for competition\n",
    "pipeline.fit(X, y)\n",
    "outputs = pipeline.predict(X_test).astype(\"int64\").astype(\"bool\")\n",
    "\n",
    "output = pd.DataFrame({'PassengerId': X_test.PassengerId,\n",
    "                       'Transported': outputs})\n",
    "output.to_csv('submission.csv', index=False)"
   ]
  }
 ],
 "metadata": {
  "kernelspec": {
   "display_name": "Python 3",
   "language": "python",
   "name": "python3"
  },
  "language_info": {
   "codemirror_mode": {
    "name": "ipython",
    "version": 3
   },
   "file_extension": ".py",
   "mimetype": "text/x-python",
   "name": "python",
   "nbconvert_exporter": "python",
   "pygments_lexer": "ipython3",
   "version": "3.7.12"
  },
  "papermill": {
   "default_parameters": {},
   "duration": 26.180421,
   "end_time": "2022-06-17T11:41:01.142377",
   "environment_variables": {},
   "exception": null,
   "input_path": "__notebook__.ipynb",
   "output_path": "__notebook__.ipynb",
   "parameters": {},
   "start_time": "2022-06-17T11:40:34.961956",
   "version": "2.3.4"
  }
 },
 "nbformat": 4,
 "nbformat_minor": 5
}
